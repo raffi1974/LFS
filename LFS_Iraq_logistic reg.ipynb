{
 "cells": [
  {
   "cell_type": "code",
   "execution_count": 1,
   "metadata": {},
   "outputs": [],
   "source": [
    "import pandas as pd\n",
    "import numpy as np\n",
    "import seaborn as sns\n",
    "import matplotlib.pyplot as plt\n",
    "import pyreadstat\n",
    "import os"
   ]
  },
  {
   "cell_type": "code",
   "execution_count": 2,
   "metadata": {},
   "outputs": [
    {
     "data": {
      "text/plain": [
       "['LFS_2021.sav']"
      ]
     },
     "execution_count": 2,
     "metadata": {},
     "output_type": "execute_result"
    }
   ],
   "source": [
    "pd.set_option('display.max_columns', None)\n",
    "os.chdir('C:/Users/511232/Desktop/LFS')\n",
    "[f for f in os.listdir() if 'sav' in f]"
   ]
  },
  {
   "cell_type": "code",
   "execution_count": 87,
   "metadata": {},
   "outputs": [],
   "source": [
    "os.chdir('C:/Users/511232/Desktop/LFS')\n",
    "df_lfs,meta_lfs=pyreadstat.read_sav('LFS_2021.sav', apply_value_formats=False)\n",
    "\n",
    "col_names_lfs=meta_lfs.column_names_to_labels\n",
    "col_vals_lfs=meta_lfs.variable_value_labels\n",
    "\n",
    "#############\n",
    "\n",
    "cols=['ilo_lfs_Yves','household_size','dem_sex','ilo_relationship_details_Yves','ilo_age_Yves',\n",
    "'ilo_mrts_details_Yves','attained.education','Disability','ilo_citizenship_Yves','governorate'\n",
    "]\n",
    "\n",
    "data_lfs=df_lfs[cols].copy()\n",
    "data_lfs=data_lfs[(data_lfs['ilo_age_Yves']>=15) & (data_lfs['ilo_age_Yves']<=64)].copy()\n"
   ]
  },
  {
   "cell_type": "code",
   "execution_count": 88,
   "metadata": {},
   "outputs": [
    {
     "data": {
      "text/plain": [
       "ilo_lfs_Yves                     0\n",
       "household_size                   0\n",
       "dem_sex                          0\n",
       "ilo_relationship_details_Yves    0\n",
       "ilo_age_Yves                     0\n",
       "ilo_mrts_details_Yves            0\n",
       "attained.education               0\n",
       "Disability                       0\n",
       "ilo_citizenship_Yves             0\n",
       "governorate                      0\n",
       "dtype: int64"
      ]
     },
     "execution_count": 88,
     "metadata": {},
     "output_type": "execute_result"
    }
   ],
   "source": [
    "data_lfs.isna().sum()"
   ]
  },
  {
   "cell_type": "code",
   "execution_count": 92,
   "metadata": {},
   "outputs": [
    {
     "name": "stdout",
     "output_type": "stream",
     "text": [
      "<class 'pandas.core.frame.DataFrame'>\n",
      "Int64Index: 58731 entries, 0 to 99610\n",
      "Data columns (total 10 columns):\n",
      " #   Column                         Non-Null Count  Dtype  \n",
      "---  ------                         --------------  -----  \n",
      " 0   ilo_lfs_Yves                   58731 non-null  float64\n",
      " 1   household_size                 58731 non-null  float64\n",
      " 2   dem_sex                        58731 non-null  float64\n",
      " 3   ilo_relationship_details_Yves  58731 non-null  float64\n",
      " 4   ilo_age_Yves                   58731 non-null  float64\n",
      " 5   ilo_mrts_details_Yves          58731 non-null  float64\n",
      " 6   attained.education             58731 non-null  float64\n",
      " 7   Disability                     58731 non-null  float64\n",
      " 8   ilo_citizenship_Yves           58731 non-null  float64\n",
      " 9   governorate                    58731 non-null  float64\n",
      "dtypes: float64(10)\n",
      "memory usage: 4.9 MB\n"
     ]
    }
   ],
   "source": [
    "data_lfs.info()"
   ]
  },
  {
   "cell_type": "code",
   "execution_count": null,
   "metadata": {},
   "outputs": [],
   "source": []
  },
  {
   "cell_type": "code",
   "execution_count": null,
   "metadata": {},
   "outputs": [],
   "source": []
  },
  {
   "cell_type": "code",
   "execution_count": null,
   "metadata": {},
   "outputs": [],
   "source": []
  },
  {
   "cell_type": "code",
   "execution_count": null,
   "metadata": {},
   "outputs": [],
   "source": []
  },
  {
   "cell_type": "code",
   "execution_count": null,
   "metadata": {},
   "outputs": [],
   "source": []
  },
  {
   "cell_type": "code",
   "execution_count": null,
   "metadata": {},
   "outputs": [],
   "source": []
  },
  {
   "cell_type": "code",
   "execution_count": null,
   "metadata": {},
   "outputs": [],
   "source": []
  },
  {
   "cell_type": "code",
   "execution_count": null,
   "metadata": {},
   "outputs": [],
   "source": []
  },
  {
   "cell_type": "code",
   "execution_count": null,
   "metadata": {},
   "outputs": [],
   "source": []
  },
  {
   "cell_type": "code",
   "execution_count": null,
   "metadata": {},
   "outputs": [],
   "source": []
  },
  {
   "cell_type": "code",
   "execution_count": null,
   "metadata": {},
   "outputs": [],
   "source": []
  },
  {
   "cell_type": "code",
   "execution_count": null,
   "metadata": {},
   "outputs": [],
   "source": []
  },
  {
   "cell_type": "code",
   "execution_count": null,
   "metadata": {},
   "outputs": [],
   "source": []
  },
  {
   "cell_type": "code",
   "execution_count": null,
   "metadata": {},
   "outputs": [],
   "source": []
  }
 ],
 "metadata": {
  "kernelspec": {
   "display_name": "Python 3.9.5 64-bit",
   "language": "python",
   "name": "python3"
  },
  "language_info": {
   "codemirror_mode": {
    "name": "ipython",
    "version": 3
   },
   "file_extension": ".py",
   "mimetype": "text/x-python",
   "name": "python",
   "nbconvert_exporter": "python",
   "pygments_lexer": "ipython3",
   "version": "3.9.5"
  },
  "orig_nbformat": 4,
  "vscode": {
   "interpreter": {
    "hash": "169bc59016e8e336f4ad0e5a16a36fd3275208f1ca947fbed5bd75de5be3f1c8"
   }
  }
 },
 "nbformat": 4,
 "nbformat_minor": 2
}
