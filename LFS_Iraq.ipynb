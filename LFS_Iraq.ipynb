{
 "cells": [
  {
   "cell_type": "markdown",
   "metadata": {},
   "source": [
    "### MICS IRAQ"
   ]
  },
  {
   "cell_type": "code",
   "execution_count": 1,
   "metadata": {},
   "outputs": [],
   "source": [
    "import pandas as pd\n",
    "import numpy as np\n",
    "import seaborn as sns\n",
    "import matplotlib.pyplot as plt\n",
    "import pyreadstat\n",
    "import os"
   ]
  },
  {
   "cell_type": "code",
   "execution_count": 2,
   "metadata": {},
   "outputs": [
    {
     "data": {
      "text/plain": [
       "['LFS_2021.sav']"
      ]
     },
     "execution_count": 2,
     "metadata": {},
     "output_type": "execute_result"
    }
   ],
   "source": [
    "pd.set_option('display.max_columns', None)\n",
    "os.chdir('C:/Users/511232/Desktop/LFS')\n",
    "[f for f in os.listdir() if 'sav' in f]"
   ]
  },
  {
   "cell_type": "code",
   "execution_count": 7,
   "metadata": {},
   "outputs": [],
   "source": [
    "#read in data and meta\n",
    "df_lfs,meta_lfs=pyreadstat.read_sav('LFS_2021.sav', apply_value_formats=False)\n",
    "\n",
    "col_names_lfs=meta_lfs.column_names_to_labels\n",
    "col_vals_lfs=meta_lfs.variable_value_labels"
   ]
  },
  {
   "cell_type": "code",
   "execution_count": 81,
   "metadata": {},
   "outputs": [],
   "source": [
    "df=df_lfs.copy()\n",
    "\n",
    "#creating having_disability\n",
    "'''\n",
    "gen SSHD=0\n",
    "replace SSHD = . if VIS_SS==. & HEAR_SS ==. & MOB_SS ==. & COM_SS==. & UB_SS==. & COG_SS==.\n",
    "replace SSHD = 2 if VIS_SS==2 | HEAR_SS ==2 | MOB_SS ==2 | COM_SS==2 |UB_SS==2 | COG_SS==2\n",
    "replace SSHD = 3 if VIS_SS==3 | HEAR_SS ==3 | MOB_SS ==3 | COM_SS==3 |UB_SS==3 | COG_SS==3\n",
    "replace SSHD = 4 if VIS_SS==4 | HEAR_SS ==4 | MOB_SS ==4 | COM_SS==4 |UB_SS==4 | COG_SS==4\n",
    "replace SSHD = 1 if SSHD ==0\n",
    "drop if SSHD ==.\n",
    "label define sshdlb 1 \"None\" 2 \"Mild\" 3 \"Moderate\" 4 \"Severe\"\n",
    "label values SSHD sshdlb\n",
    "'''\n",
    "\n",
    "having_disability_labels={1.0: 'No, no difficulty',\n",
    " 2.0: 'Yes, some difficulty',\n",
    " 3.0: 'Yes, a lot of difficulty',\n",
    " 4.0: 'Cannot do it at all'}\n",
    "\n",
    "dis_cols=['dif_sight','dif_hear','dif_mobi','dif_conc','dif_comm','dif_upper_body','dif_care']\n",
    "df['having_disability']=df[dis_cols].apply(lambda x: x.max(), axis=1)\n",
    "df['having_disability']=df['having_disability'].map(having_disability_labels)\n",
    "\n",
    "#recode 5 years age groups\n",
    "c1=(df['dem_ag1']>=0) & (df['dem_ag1']<=4)\n",
    "c2=(df['dem_ag1']>=5) & (df['dem_ag1']<=9)\n",
    "c3=(df['dem_ag1']>=10) & (df['dem_ag1']<=14)\n",
    "c4=(df['dem_ag1']>=15) & (df['dem_ag1']<=19)\n",
    "c5=(df['dem_ag1']>=20) & (df['dem_ag1']<=24)\n",
    "c6=(df['dem_ag1']>=25) & (df['dem_ag1']<=29)\n",
    "c7=(df['dem_ag1']>=30) & (df['dem_ag1']<=34)\n",
    "c8=(df['dem_ag1']>=35) & (df['dem_ag1']<=39)\n",
    "c9=(df['dem_ag1']>=40) & (df['dem_ag1']<=44)\n",
    "c10=(df['dem_ag1']>=45) & (df['dem_ag1']<=49)\n",
    "c11=(df['dem_ag1']>=50) & (df['dem_ag1']<=54)\n",
    "c12=(df['dem_ag1']>=55) & (df['dem_ag1']<=59)\n",
    "c13=(df['dem_ag1']>=60) & (df['dem_ag1']<=64)\n",
    "c14=(df['dem_ag1']>=65) & (df['dem_ag1']<=69)\n",
    "c15=(df['dem_ag1']>=70) & (df['dem_ag1']<=74)\n",
    "c16=(df['dem_ag1']>=75) & (df['dem_ag1']<=79)\n",
    "c17=(df['dem_ag1']>=80) & (df['dem_ag1']<=84)\n",
    "c18=(df['dem_ag1']>=85) & (df['dem_ag1']<=89)\n",
    "c19=(df['dem_ag1']>=90)\n",
    "\n",
    "cond=[c1,c2,c3,c4,c5,c6,c7,c8,c9,c10,c11,c12,c13,c14,c15,c16,c17,c18,c19]\n",
    "\n",
    "rslt=['0-4', '5-9', '10-14', '15-19', '20-24', '25-29', '30-34', '35-39',\n",
    "'40-44', '45-49', '50-54', '55-59', '60-64', '65-69', '70-74', '75-79', '80-84','85-89', '90+']\n",
    "\n",
    "df['age_5']=np.select(cond,rslt,default=np.nan)\n",
    "#recode age 18+\n",
    "df['age_18+']=np.select([df['dem_ag1']>=18, df['dem_ag1']<18],['18+','<18'],default=np.nan )\n",
    "\n",
    "#recode age: 5-9\t10-14\t15-19\t20-24\t25-64\t65+\n",
    "df['age25_64']=np.select([(df['dem_ag1']>=25) & (df['dem_ag1']<=64), \n",
    "df['dem_ag1']>=65],['25-64','65+'],default=np.nan)\n",
    "\n",
    "#recode agegroup: 5-9\t10-14\t15-19\t20-24\n",
    "cond=[c2,c3,c4,c5]\n",
    "rslt=['5-9','10-14','15-19','20-24']\n",
    "df['age_5_1']=np.select(cond,rslt,default=np.nan)\n",
    "\n",
    "#add labels\n",
    "vars=['dem_sex','area','dif_sight','dif_hear','dif_mobi','dif_conc','dif_care','dif_comm','dif_upper_body']\n",
    "for v in vars:\n",
    "    df[v]=df[v].map(col_vals_lfs[v])\n",
    "\n",
    "\n"
   ]
  },
  {
   "cell_type": "code",
   "execution_count": null,
   "metadata": {},
   "outputs": [],
   "source": []
  },
  {
   "cell_type": "code",
   "execution_count": 53,
   "metadata": {},
   "outputs": [
    {
     "name": "stdout",
     "output_type": "stream",
     "text": [
      "generating population_age\n",
      "population_age generated and saved\n"
     ]
    }
   ],
   "source": [
    "print('generating population_age')\n",
    "#column index\n",
    "newcol=['0-4','5-9', '10-14', '15-19', '20-24', '25-29', '30-34', '35-39',\n",
    "       '40-44', '45-49','50-54', '55-59', '60-64', '65-69', '70-74',\n",
    "       '75-79', '80-84', '85-89', '90+', '18+', '<18']\n",
    "\n",
    "xtab_total=[]\n",
    "for col in ['age_5', 'age_18+']:\n",
    "\n",
    "       xtab=pd.crosstab([df['area'],df['having_disability'],df['dem_sex']],df[col],\n",
    "       rownames=['Area','Disability Type', 'Sex'],\n",
    "       colnames=['agegroup'], \n",
    "       values=df['ilo_wgt'], aggfunc='sum',dropna=False)\n",
    "       #drop the column 'na' from the dataframe\n",
    "       xtab.drop(['nan'], axis=1, inplace=True)\n",
    "       xtab_total.append(xtab)\n",
    "\n",
    "#append the dataframes\n",
    "T=pd.concat(xtab_total, axis=1) \n",
    "\n",
    "#reindex the columns\n",
    "T=T.reindex(newcol, axis='columns')\n",
    "# xtab=pd.crosstab([df['HH6'],df['disability_combined']],df[age_5],\n",
    "# rownames=['Area','Disability level'],colnames=[col], values=df['ilo_wgt'], aggfunc='sum',dropna=False)\n",
    "# df_total.append(xtab)\n",
    "# T=pd.concat(df_total, axis=1)     \n",
    "T.to_excel('Table 1 xtab_all_dis_ByAge.xlsx')\n",
    "print('population_age generated and saved')\n",
    "\n"
   ]
  },
  {
   "cell_type": "code",
   "execution_count": null,
   "metadata": {},
   "outputs": [],
   "source": [
    "print('generating DisabType_Age')\n",
    "#column index\n",
    "newcol=['0-4','5-9', '10-14', '15-19', '20-24', '25-29', '30-34', '35-39',\n",
    "       '40-44', '45-49','50-54', '55-59', '60-64', '65-69', '70-74',\n",
    "       '75-79', '80-84', '85-89', '90+', '18+', '<18']\n",
    "\n",
    "xtab_total=[]\n",
    "for col in ['age_5', 'age_18+']:\n",
    "\n",
    "       xtab=pd.crosstab([df['area'],df['having_disability'],df['dem_sex']],df[col],\n",
    "       rownames=['Area','Disability Type', 'Sex'],\n",
    "       colnames=['agegroup'], \n",
    "       values=df['ilo_wgt'], aggfunc='sum',dropna=False)\n",
    "       #drop the column 'na' from the dataframe\n",
    "       xtab.drop(['nan'], axis=1, inplace=True)\n",
    "       xtab_total.append(xtab)\n",
    "\n",
    "#append the dataframes\n",
    "T=pd.concat(xtab_total, axis=1) \n",
    "\n",
    "#reindex the columns\n",
    "T=T.reindex(newcol, axis='columns')\n",
    "# xtab=pd.crosstab([df['HH6'],df['disability_combined']],df[age_5],\n",
    "# rownames=['Area','Disability level'],colnames=[col], values=df['ilo_wgt'], aggfunc='sum',dropna=False)\n",
    "# df_total.append(xtab)\n",
    "# T=pd.concat(df_total, axis=1)     \n",
    "T.to_excel('Table 1 xtab_all_dis_ByAge.xlsx')\n",
    "print('population_age generated and saved')\n"
   ]
  },
  {
   "cell_type": "code",
   "execution_count": null,
   "metadata": {},
   "outputs": [],
   "source": [
    "col_names_lfs"
   ]
  },
  {
   "cell_type": "code",
   "execution_count": 7,
   "metadata": {},
   "outputs": [],
   "source": [
    "\n",
    "print('generating Table 2')\n",
    "df=data_wm.copy()\n",
    "df_total=[]\n",
    "def xtab():\n",
    "    for col in disability_cols:\n",
    "        print(f'processing column {col}')\n",
    "        r=pd.crosstab([df['HH6'],df[col].map(disability_levels)],df['WAGE'],\\\n",
    "            rownames=['Area','Level'],colnames=['Age'], values=df['wmweight'], \n",
    "            aggfunc='sum',dropna=False).stack()\n",
    "        r.name=dis_names[col]\n",
    "        df_total.append(r)\n",
    "\n",
    "#concatenating the series in the resulting generator\n",
    "xtab()\n",
    "t=pd.concat(df_total, axis=1)\n",
    "t['All_disabilities']=t.sum(axis=1)\n",
    "#reshape the result\n",
    "T=t.stack().unstack([3,2]).sort_index(axis=1, level=0)\n",
    "\n",
    "##############################################################################################\n",
    "\n",
    "df_total=[]\n",
    "\n",
    "multiindex_cols=[]\n",
    "\n",
    "for col in ['MT11','internet_use','MT12']:\n",
    "    #add labels to values\n",
    "    if col!='internet_use':\n",
    "        df[col]=df[col].map(col_vals_wm[col])\n",
    "        \n",
    "        r=pd.crosstab([df['HH6'],df['disability_combined']],\n",
    "        [df[col],df['age_ict']],\n",
    "        rownames=['Area','Disability level'],colnames=[col_names_wm[col],'age'], \n",
    "        values=df['wmweight'],aggfunc='sum',dropna=False)\n",
    "        df_total.append(r)\n",
    "        #create the multiindex col and append to multiindex_cols\n",
    "        '''r.columns are MultiIndex([(         'NO', '15-60'),\n",
    "                        ('NO RESPONSE', '15-60'),\n",
    "                        (        'YES', '15-60')],\n",
    "            names=['Own a mobile phone', 'age'])\n",
    "            we loop over the tuples and insert at index 0 the column name with col_names_wm[col]'''\n",
    "\n",
    "        for i in r.columns:\n",
    "            l=list(i)\n",
    "            l.insert(0,col_names_wm[col])\n",
    "            multiindex_cols.append(tuple(l))"
   ]
  },
  {
   "cell_type": "code",
   "execution_count": null,
   "metadata": {},
   "outputs": [],
   "source": [
    "xtab=crosstab()\n",
    "xtab.generate_xtabs()"
   ]
  },
  {
   "cell_type": "code",
   "execution_count": null,
   "metadata": {},
   "outputs": [],
   "source": []
  },
  {
   "cell_type": "code",
   "execution_count": null,
   "metadata": {},
   "outputs": [],
   "source": []
  },
  {
   "cell_type": "code",
   "execution_count": null,
   "metadata": {},
   "outputs": [],
   "source": []
  },
  {
   "cell_type": "code",
   "execution_count": null,
   "metadata": {},
   "outputs": [],
   "source": []
  },
  {
   "cell_type": "code",
   "execution_count": null,
   "metadata": {},
   "outputs": [],
   "source": []
  },
  {
   "cell_type": "code",
   "execution_count": null,
   "metadata": {},
   "outputs": [],
   "source": []
  },
  {
   "cell_type": "code",
   "execution_count": 61,
   "metadata": {},
   "outputs": [],
   "source": [
    "import numpy as np\n",
    "import pandas as pd\n",
    "import seaborn as sns\n",
    "import matplotlib.pyplot as plt\n",
    "from sklearn import preprocessing, svm\n",
    "from sklearn.model_selection import train_test_split\n",
    "from sklearn.linear_model import LinearRegression\n",
    "from sklearn.metrics import r2_score"
   ]
  },
  {
   "cell_type": "code",
   "execution_count": 57,
   "metadata": {},
   "outputs": [
    {
     "data": {
      "text/html": [
       "<div>\n",
       "<style scoped>\n",
       "    .dataframe tbody tr th:only-of-type {\n",
       "        vertical-align: middle;\n",
       "    }\n",
       "\n",
       "    .dataframe tbody tr th {\n",
       "        vertical-align: top;\n",
       "    }\n",
       "\n",
       "    .dataframe thead th {\n",
       "        text-align: right;\n",
       "    }\n",
       "</style>\n",
       "<table border=\"1\" class=\"dataframe\">\n",
       "  <thead>\n",
       "    <tr style=\"text-align: right;\">\n",
       "      <th></th>\n",
       "      <th>Country</th>\n",
       "      <th>ISO3</th>\n",
       "      <th>Year</th>\n",
       "      <th>Exposure Upper PM 2.5 ug/m3</th>\n",
       "      <th>Exposure Upper PM 2.5 ug/m3_CC</th>\n",
       "    </tr>\n",
       "  </thead>\n",
       "  <tbody>\n",
       "    <tr>\n",
       "      <th>0</th>\n",
       "      <td>Algeria</td>\n",
       "      <td>DZA</td>\n",
       "      <td>1990</td>\n",
       "      <td>41.6</td>\n",
       "      <td>2</td>\n",
       "    </tr>\n",
       "    <tr>\n",
       "      <th>1</th>\n",
       "      <td>Algeria</td>\n",
       "      <td>DZA</td>\n",
       "      <td>1995</td>\n",
       "      <td>44.3</td>\n",
       "      <td>2</td>\n",
       "    </tr>\n",
       "    <tr>\n",
       "      <th>2</th>\n",
       "      <td>Algeria</td>\n",
       "      <td>DZA</td>\n",
       "      <td>2000</td>\n",
       "      <td>49.6</td>\n",
       "      <td>2</td>\n",
       "    </tr>\n",
       "    <tr>\n",
       "      <th>3</th>\n",
       "      <td>Algeria</td>\n",
       "      <td>DZA</td>\n",
       "      <td>2005</td>\n",
       "      <td>47.5</td>\n",
       "      <td>2</td>\n",
       "    </tr>\n",
       "    <tr>\n",
       "      <th>4</th>\n",
       "      <td>Algeria</td>\n",
       "      <td>DZA</td>\n",
       "      <td>2010</td>\n",
       "      <td>44.1</td>\n",
       "      <td>2</td>\n",
       "    </tr>\n",
       "  </tbody>\n",
       "</table>\n",
       "</div>"
      ],
      "text/plain": [
       "   Country ISO3  Year  Exposure Upper PM 2.5 ug/m3  \\\n",
       "0  Algeria  DZA  1990                         41.6   \n",
       "1  Algeria  DZA  1995                         44.3   \n",
       "2  Algeria  DZA  2000                         49.6   \n",
       "3  Algeria  DZA  2005                         47.5   \n",
       "4  Algeria  DZA  2010                         44.1   \n",
       "\n",
       "   Exposure Upper PM 2.5 ug/m3_CC  \n",
       "0                               2  \n",
       "1                               2  \n",
       "2                               2  \n",
       "3                               2  \n",
       "4                               2  "
      ]
     },
     "execution_count": 57,
     "metadata": {},
     "output_type": "execute_result"
    }
   ],
   "source": [
    "df=pd.read_excel('C:/Users/511232/Desktop/PM2.5_CC.xlsx')\n",
    "cols=['Exposure Upper PM 2.5 ug/m3','Exposure Upper PM 2.5 ug/m3_CC']\n",
    "\n",
    "df.head()"
   ]
  },
  {
   "cell_type": "code",
   "execution_count": 71,
   "metadata": {},
   "outputs": [
    {
     "data": {
      "text/html": [
       "<div>\n",
       "<style scoped>\n",
       "    .dataframe tbody tr th:only-of-type {\n",
       "        vertical-align: middle;\n",
       "    }\n",
       "\n",
       "    .dataframe tbody tr th {\n",
       "        vertical-align: top;\n",
       "    }\n",
       "\n",
       "    .dataframe thead th {\n",
       "        text-align: right;\n",
       "    }\n",
       "</style>\n",
       "<table border=\"1\" class=\"dataframe\">\n",
       "  <thead>\n",
       "    <tr style=\"text-align: right;\">\n",
       "      <th></th>\n",
       "      <th>slope</th>\n",
       "      <th>intercept</th>\n",
       "      <th>R2</th>\n",
       "    </tr>\n",
       "  </thead>\n",
       "  <tbody>\n",
       "    <tr>\n",
       "      <th>0</th>\n",
       "      <td>0.094919</td>\n",
       "      <td>-128.447632</td>\n",
       "      <td>0.001202</td>\n",
       "    </tr>\n",
       "    <tr>\n",
       "      <th>1</th>\n",
       "      <td>-0.004236</td>\n",
       "      <td>10.019200</td>\n",
       "      <td>0.003371</td>\n",
       "    </tr>\n",
       "  </tbody>\n",
       "</table>\n",
       "</div>"
      ],
      "text/plain": [
       "      slope   intercept        R2\n",
       "0  0.094919 -128.447632  0.001202\n",
       "1 -0.004236   10.019200  0.003371"
      ]
     },
     "execution_count": 71,
     "metadata": {},
     "output_type": "execute_result"
    }
   ],
   "source": [
    "import numpy as np\n",
    "import pandas as pd\n",
    "import seaborn as sns\n",
    "import matplotlib.pyplot as plt\n",
    "from sklearn import preprocessing, svm\n",
    "from sklearn.model_selection import train_test_split\n",
    "from sklearn.linear_model import LinearRegression\n",
    "from sklearn.metrics import r2_score\n",
    "\n",
    "df=pd.read_excel('C:/Users/511232/Desktop/PM2.5_CC.xlsx')\n",
    "cols=['Exposure Upper PM 2.5 ug/m3','Exposure Upper PM 2.5 ug/m3_CC']\n",
    "\n",
    "\n",
    "slope=[]\n",
    "intercept=[]\n",
    "R2=[]\n",
    "\n",
    "for col in cols:\n",
    "    x=np.array(df['Year']).reshape(-1, 1)\n",
    "    y=np.array(df[col]).reshape(-1, 1)\n",
    "\n",
    "    regr = LinearRegression()\n",
    "    regr.fit(x, y)\n",
    "    intercept.append(regr.intercept_[0])\n",
    "    slope.append(regr.coef_[0][0])\n",
    "\n",
    "    pred=regr.predict(x)\n",
    "    R2.append(r2_score(y, pred))\n",
    "\n",
    "rslt=pd.DataFrame({'slope':slope, 'intercept':intercept, 'R2':R2})\n",
    "rslt"
   ]
  },
  {
   "cell_type": "code",
   "execution_count": null,
   "metadata": {},
   "outputs": [],
   "source": []
  }
 ],
 "metadata": {
  "kernelspec": {
   "display_name": "Python 3.9.5 64-bit",
   "language": "python",
   "name": "python3"
  },
  "language_info": {
   "codemirror_mode": {
    "name": "ipython",
    "version": 3
   },
   "file_extension": ".py",
   "mimetype": "text/x-python",
   "name": "python",
   "nbconvert_exporter": "python",
   "pygments_lexer": "ipython3",
   "version": "3.9.5"
  },
  "orig_nbformat": 4,
  "vscode": {
   "interpreter": {
    "hash": "169bc59016e8e336f4ad0e5a16a36fd3275208f1ca947fbed5bd75de5be3f1c8"
   }
  }
 },
 "nbformat": 4,
 "nbformat_minor": 2
}
