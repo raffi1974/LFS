{
 "cells": [
  {
   "cell_type": "markdown",
   "metadata": {},
   "source": [
    "### LFS IRAQ"
   ]
  },
  {
   "cell_type": "code",
   "execution_count": 1,
   "metadata": {},
   "outputs": [],
   "source": [
    "import pandas as pd\n",
    "import numpy as np\n",
    "import seaborn as sns\n",
    "import matplotlib.pyplot as plt\n",
    "import pyreadstat\n",
    "import os"
   ]
  },
  {
   "cell_type": "code",
   "execution_count": 2,
   "metadata": {},
   "outputs": [
    {
     "data": {
      "text/plain": [
       "['LFS_2021.sav']"
      ]
     },
     "execution_count": 2,
     "metadata": {},
     "output_type": "execute_result"
    }
   ],
   "source": [
    "pd.set_option('display.max_columns', None)\n",
    "os.chdir('C:/Users/511232/Desktop/LFS')\n",
    "[f for f in os.listdir() if 'sav' in f]"
   ]
  },
  {
   "cell_type": "code",
   "execution_count": 3,
   "metadata": {},
   "outputs": [],
   "source": [
    "#read in data and meta\n",
    "df_lfs,meta_lfs=pyreadstat.read_sav('LFS_2021.sav', apply_value_formats=False)\n",
    "\n",
    "col_names_lfs=meta_lfs.column_names_to_labels\n",
    "col_vals_lfs=meta_lfs.variable_value_labels"
   ]
  },
  {
   "cell_type": "code",
   "execution_count": 4,
   "metadata": {},
   "outputs": [
    {
     "name": "stdout",
     "output_type": "stream",
     "text": [
      "number of functional disability created\n",
      "hh_type and hh_type2 created\n",
      "agegroup1 created\n",
      "agegroup2 created\n",
      "agegroup3 created\n",
      "agegroup4 created\n",
      "agegroup5 created\n",
      "agegroup6 created\n",
      "agegroup7 created\n",
      "agegroup8 created\n",
      "hh_relationship created\n",
      "hh_size created\n",
      "edu_attain created\n",
      "edu_attend created\n",
      "edu_level created\n"
     ]
    }
   ],
   "source": [
    "df=df_lfs.copy()\n",
    "\n",
    "#having_disability\n",
    "'''\n",
    "gen SSHD=0\n",
    "replace SSHD = . if VIS_SS==. & HEAR_SS ==. & MOB_SS ==. & COM_SS==. & UB_SS==. & COG_SS==.\n",
    "replace SSHD = 2 if VIS_SS==2 | HEAR_SS ==2 | MOB_SS ==2 | COM_SS==2 |UB_SS==2 | COG_SS==2\n",
    "replace SSHD = 3 if VIS_SS==3 | HEAR_SS ==3 | MOB_SS ==3 | COM_SS==3 |UB_SS==3 | COG_SS==3\n",
    "replace SSHD = 4 if VIS_SS==4 | HEAR_SS ==4 | MOB_SS ==4 | COM_SS==4 |UB_SS==4 | COG_SS==4\n",
    "replace SSHD = 1 if SSHD ==0\n",
    "drop if SSHD ==.\n",
    "label define sshdlb 1 \"None\" 2 \"Mild\" 3 \"Moderate\" 4 \"Severe\"\n",
    "label values SSHD sshdlb\n",
    "'''\n",
    "\n",
    "having_disability_labels={1.0: 'No, no difficulty',\n",
    " 2.0: 'Yes, some difficulty',\n",
    " 3.0: 'Yes, a lot of difficulty',\n",
    " 4.0: 'Cannot do it at all',\n",
    " np.nan:'Not stated'}\n",
    "\n",
    "dis_cols=['dif_sight','dif_hear','dif_mobi','dif_conc','dif_comm','dif_upper_body','dif_care']\n",
    "df['having_disability']=df[dis_cols].apply(lambda x: x.max(), axis=1)\n",
    "df['having_disability']=df['having_disability'].map(having_disability_labels)\n",
    "#####################################################\n",
    "#number of functional disability\n",
    "''' \n",
    "{1.0: 'No, no difficulty',\n",
    " 2.0: 'Yes, some difficulty',\n",
    " 3.0: 'Yes, a lot of difficulty',\n",
    " 4.0: 'Cannot do it at all'}\n",
    " \n",
    " if any of the disabilities have codes 1 or 2 they are not disabled, disabled otherwise\n",
    " -transform codes 3,4 to True and 1,2 to False and sum over axis=1'''\n",
    "\n",
    "df['func_dis']=df[dis_cols].apply(lambda x: x.isin([3,4]), axis=1).sum(axis=1)\n",
    "num_functional_dis_labels={0:'Zero domain', 1:'One domain', 2:'Two domains', 3:'Three or more domains'}\n",
    "df['num_functional_dis']=np.select([df['func_dis']==1, df['func_dis']==2, df['func_dis']>=3], [1,2,3])\n",
    "df['num_functional_dis']=df['num_functional_dis'].map(num_functional_dis_labels)\n",
    "print('number of functional disability created')\n",
    "#####################################################\n",
    "#household type\n",
    "'''\n",
    "{1.0: 'Head',\n",
    " 2.0: 'Spouse (Wife/Husband)',\n",
    " 3.0: 'Child (Son/daughter)',\n",
    " 4.0: 'Grandchild',\n",
    " 5.0: 'Parent',\n",
    " 6.0: 'Brother or Sister',\n",
    " 7.0: 'Son or Daughter in law',\n",
    " 8.0: 'Other relative',\n",
    " 9.0: 'Non-relative',\n",
    " 10.0: 'Domestic worker /Maid/Servant (Live-in)'}'''\n",
    "\n",
    "hh_type_labels={1:'One person', 2:'Nuclear', 3:'Extended', 4:'Composite', 5: 'Unknown'}\n",
    "#create a temporary var dem_rel_temp where na are replaced by 999\n",
    "df['dem_rel_temp']=np.where(df['dem_rel'].isnull(), 999, df['dem_rel'])\n",
    "\n",
    "def family_type(df):\n",
    "    nuclear=[1,2,3,999]\n",
    "    extended=nuclear+[4,5,6,7,8]\n",
    "    composite=extended+[9,10]\n",
    "\n",
    "    if len(df['dem_rel_temp'])==1:\n",
    "        df['hh_type']=1\n",
    "    elif all(df['dem_rel_temp'].isin(nuclear)):\n",
    "        df['hh_type']=2\n",
    "    elif all(df['dem_rel_temp'].isin(extended)):\n",
    "        df['hh_type']=3\n",
    "    elif all(df['dem_rel_temp'].isin(composite)):\n",
    "        df['hh_type']=4\n",
    "    else:\n",
    "        df['hh_type']=5\n",
    "    return(df)\n",
    "#         \n",
    "#create hh_type\n",
    "#grouping by 2 variables will create a MultiIndex df\n",
    "df=df.groupby(['cls_num','hh_num','area']).apply(family_type)\n",
    "\n",
    "#create hh_type2: Population living alone in a household, Population living with family in a household\n",
    "cond=[df['hh_type']==1, (df['hh_type']==2)|(df['hh_type']==3)|(df['hh_type']==4)]\n",
    "rslt=['Population living alone in a household','Population living with family in a household']\n",
    "df['hh_type2']=np.select(cond,rslt,default=np.nan)\n",
    "\n",
    "#labeling hh_type\n",
    "df['hh_type']=df['hh_type'].map(hh_type_labels)\n",
    "print('hh_type and hh_type2 created')\n",
    "#####################################################\n",
    "#agegroup1: 0-4 5-9 10-14 15-19 20-24 25-29 30-34 35-39 40-44 45-49 50-54 55-59 60-64 65-69 70-74 75-7 80-84 85-89 90+\n",
    "\n",
    "c1=(df['dem_ag1']>=0) & (df['dem_ag1']<=4)\n",
    "c2=(df['dem_ag1']>=5) & (df['dem_ag1']<=9)\n",
    "c3=(df['dem_ag1']>=10) & (df['dem_ag1']<=14)\n",
    "c4=(df['dem_ag1']>=15) & (df['dem_ag1']<=19)\n",
    "c5=(df['dem_ag1']>=20) & (df['dem_ag1']<=24)\n",
    "c6=(df['dem_ag1']>=25) & (df['dem_ag1']<=29)\n",
    "c7=(df['dem_ag1']>=30) & (df['dem_ag1']<=34)\n",
    "c8=(df['dem_ag1']>=35) & (df['dem_ag1']<=39)\n",
    "c9=(df['dem_ag1']>=40) & (df['dem_ag1']<=44)\n",
    "c10=(df['dem_ag1']>=45) & (df['dem_ag1']<=49)\n",
    "c11=(df['dem_ag1']>=50) & (df['dem_ag1']<=54)\n",
    "c12=(df['dem_ag1']>=55) & (df['dem_ag1']<=59)\n",
    "c13=(df['dem_ag1']>=60) & (df['dem_ag1']<=64)\n",
    "c14=(df['dem_ag1']>=65) & (df['dem_ag1']<=69)\n",
    "c15=(df['dem_ag1']>=70) & (df['dem_ag1']<=74)\n",
    "c16=(df['dem_ag1']>=75) & (df['dem_ag1']<=79)\n",
    "c17=(df['dem_ag1']>=80) & (df['dem_ag1']<=84)\n",
    "c18=(df['dem_ag1']>=85) & (df['dem_ag1']<=89)\n",
    "c19=(df['dem_ag1']>=90)\n",
    "\n",
    "cond=[c1,c2,c3,c4,c5,c6,c7,c8,c9,c10,c11,c12,c13,c14,c15,c16,c17,c18,c19]\n",
    "\n",
    "rslt=['0-4', '5-9', '10-14', '15-19', '20-24', '25-29', '30-34', '35-39',\n",
    "'40-44', '45-49', '50-54', '55-59', '60-64', '65-69', '70-74', '75-79', '80-84','85-89', '90+']\n",
    "\n",
    "df['agegroup1']=np.select(cond,rslt,default=np.nan)\n",
    "print('agegroup1 created')\n",
    "#####################################################\n",
    "#agegroup2: 18+\n",
    "df['agegroup2']=np.select([df['dem_ag1']>=18, df['dem_ag1']<18],['18+','<18'],default=np.nan )\n",
    "print('agegroup2 created')\n",
    "#####################################################\n",
    "#agegroup3: 5-14\t15-24\t25-34\t35-44\t45-54\t55-64\t65-74\t75-84\t85+\n",
    "c1=(df['dem_ag1']>=5) & (df['dem_ag1']<=14)\n",
    "c2=(df['dem_ag1']>=15) & (df['dem_ag1']<=24)\n",
    "c3=(df['dem_ag1']>=25) & (df['dem_ag1']<=34)\n",
    "c4=(df['dem_ag1']>=35) & (df['dem_ag1']<=44)\n",
    "c5=(df['dem_ag1']>=45) & (df['dem_ag1']<=54)\n",
    "c6=(df['dem_ag1']>=55) & (df['dem_ag1']<=64)\n",
    "c7=(df['dem_ag1']>=65) & (df['dem_ag1']<=74)\n",
    "c8=(df['dem_ag1']>=75) & (df['dem_ag1']<=84)\n",
    "c9=df['dem_ag1']>=85\n",
    "\n",
    "cond=[c1,c2,c3,c4,c5,c6,c7,c8,c9]\n",
    "rslt=['5-14','15-24','25-34','35-44','45-54','55-64','65-74','75-84','85+']\n",
    "df['agegroup3']=np.select(cond,rslt,default=np.nan)\n",
    "print('agegroup3 created')\n",
    "#####################################################\n",
    "# agegroup4: <15\t15-19\t20-24\t25-29\t30-34\t35-39\t40-44\t45-49\t50-54\t55-59\t60-64\t65+\n",
    "c1=df['dem_ag1']<15\n",
    "c2=(df['dem_ag1']>=15) & (df['dem_ag1']<=19)\n",
    "c3=(df['dem_ag1']>=20) & (df['dem_ag1']<=24)\n",
    "c4=(df['dem_ag1']>=25) & (df['dem_ag1']<=29)\n",
    "c5=(df['dem_ag1']>=30) & (df['dem_ag1']<=34)\n",
    "c6=(df['dem_ag1']>=35) & (df['dem_ag1']<=39)\n",
    "c7=(df['dem_ag1']>=40) & (df['dem_ag1']<=44)\n",
    "c8=(df['dem_ag1']>=45) & (df['dem_ag1']<=49)\n",
    "c9=(df['dem_ag1']>=50) & (df['dem_ag1']<=54)\n",
    "c10=(df['dem_ag1']>=55) & (df['dem_ag1']<=59)\n",
    "c11=(df['dem_ag1']>=60) & (df['dem_ag1']<=64)\n",
    "c12=df['dem_ag1']>=65\n",
    "\n",
    "cond=[c1,c2,c3,c4,c5,c6,c7,c8,c9,c10,c11,c12]\n",
    "rslt=['<15','15-19','20-24','25-29','30-34','35-39','40-44','45-49','50-54','55-59','60-64','65+']\n",
    "df['agegroup4']=np.select(cond,rslt,default=np.nan)\n",
    "print('agegroup4 created')\n",
    "#####################################################\n",
    "#agegroup5 <18\t18-24\t25-64\t65+\n",
    "c1=df['dem_ag1']<18\n",
    "c2=(df['dem_ag1']>=18) & (df['dem_ag1']<=24)\n",
    "c3=(df['dem_ag1']>=25) & (df['dem_ag1']<=64)\n",
    "c4=df['dem_ag1']>=65\n",
    "\n",
    "cond=[c1,c2,c3,c4]\n",
    "rslt=['<18','18-24','25-64','65+']\n",
    "df['agegroup5']=np.select(cond,rslt,default=np.nan)\n",
    "print('agegroup5 created')\n",
    "#####################################################\n",
    "#age5+, age15+, age25+\n",
    "df['age5+']=np.where(df['dem_ag1']>=5, '5+', '<5')\n",
    "df['age15+']=np.where(df['dem_ag1']>=15, '15+', '<15')\n",
    "df['age25+']=np.where(df['dem_ag1']>=25, '25+', '<25')\n",
    "#####################################################\n",
    "#agegroup6 15-29\t30-44\t45-64\t65+\n",
    "c1=(df['dem_ag1']>=15) & (df['dem_ag1']<=29)\n",
    "c2=(df['dem_ag1']>=30) & (df['dem_ag1']<=44)\n",
    "c3=(df['dem_ag1']>=45) & (df['dem_ag1']<=64)\n",
    "c4=df['dem_ag1']>=65\n",
    "\n",
    "cond=[c1,c2,c3,c4]\n",
    "rslt=['15-29','30-44','45-64','65+']\n",
    "df['agegroup6']=np.select(cond,rslt,default=np.nan)\n",
    "print('agegroup6 created')\n",
    "\n",
    "#####################################################\n",
    "#agegroup7: 5-9 10-14 15-19 20-24 25-29 30+\n",
    "c1=(df['dem_ag1']>=5) & (df['dem_ag1']<=9)\n",
    "c2=(df['dem_ag1']>=10) & (df['dem_ag1']<=14)\n",
    "c3=(df['dem_ag1']>=15) & (df['dem_ag1']<=19)\n",
    "c4=(df['dem_ag1']>=20) & (df['dem_ag1']<=24)\n",
    "c5=(df['dem_ag1']>=25) & (df['dem_ag1']<=29)\n",
    "c6=df['dem_ag1']>=30\n",
    "\n",
    "cond=[c1,c2,c3,c4,c5,c6]\n",
    "rslt=['5-9', '10-14', '15-19', '20-24', '25-29', '30+']\n",
    "\n",
    "df['agegroup7']=np.select(cond,rslt,default=np.nan)\n",
    "print('agegroup7 created')\n",
    "#####################################################\n",
    "#agegroup8: 15-24\t25-64\t65+\n",
    "c1=(df['dem_ag1']>=15) & (df['dem_ag1']<=24)\n",
    "c2=(df['dem_ag1']>=25) & (df['dem_ag1']<=63)\n",
    "c3=df['dem_ag1']>=64\n",
    "\n",
    "cond=[c1,c2,c3]\n",
    "rslt=['15-24', '25-64', '64+']\n",
    "\n",
    "df['agegroup8']=np.select(cond,rslt,default=np.nan)\n",
    "print('agegroup8 created')\n",
    "#####################################################\n",
    "#relationship to HH\n",
    "c1=df['dem_rel']==1\n",
    "c2=df['dem_rel'].isin([2,3,4,5,6,7,8,9,10])\n",
    "df['hh_relationship']=np.select([c1,c2],[1,2],default=999)\n",
    "df['hh_relationship']=df['hh_relationship'].map({1:'head of HH', 2:'Other', 999:'Not stated'})\n",
    "print('hh_relationship created')\n",
    "#####################################################\n",
    "#household size: 1\t2\t3\t4\t5\t6\t7\t8+\n",
    "df['hh_size']=np.where(df['ghhhsize']>=8, '8+',df['ghhhsize'])\n",
    "print('hh_size created')\n",
    "#####################################################\n",
    "#recode edu_attain\n",
    "cond1=(df['dem_edl']==1) | (df['dem_edl']==2) | (df['dem_edl']==3)\n",
    "cond2=df['dem_edl']==4\n",
    "cond3=(df['dem_edl']==5) | (df['dem_edl']==6)\n",
    "cond4=(df['dem_edl']==8) | (df['dem_edl']==9)\n",
    "cond5=(df['dem_edl']==10)\n",
    "cond6=(df['dem_edl']==11) | (df['dem_edl']==12)\n",
    "cond7=(df['dem_edl']==13)\n",
    "cond8=(df['dem_edl']==14)\n",
    "cond9=(df['dem_edl']==7) | (df['dem_edl']==15)\n",
    "cond10=df['dem_edl'].isnull()\n",
    "\n",
    "cond=[cond1,cond2,cond3,cond4,cond5,cond6,cond7,cond8,cond9,cond10]\n",
    "rslt=[1,2,3,4,5,6,7,8,9,99]\n",
    "\n",
    "df['edu_attain']=np.select(cond,rslt)\n",
    "print('edu_attain created')\n",
    "#####################################################\n",
    "#recode edu_attend\n",
    "df['edu_attend']=df['dem_edc'].fillna(999)\n",
    "df['edu_attend'].map({1:\"Attending\", 2:\"Not attending\", 99:\"Not stated\"})\n",
    "print('edu_attend created')\n",
    "#####################################################\n",
    "#recode edu_level\n",
    "cond1=df['edu_attain']==1\n",
    "cond2=df['edu_attain']==2\n",
    "cond3=(df['edu_attain']==3) | (df['edu_attain']==4) | (df['edu_attain']==5)\n",
    "cond4=(df['edu_attain']==6) | (df['edu_attain']==7) | (df['edu_attain']==8)\n",
    "cond5=(df['edu_attain']==9)\n",
    "cond6=df['edu_attain'].isnull()\n",
    "\n",
    "cond=[cond1,cond2,cond3,cond4,cond5,cond6]\n",
    "rslt=[1,2,3,4,5,99]\n",
    "\n",
    "#map lables for both edu_attain and edu_level\n",
    "education_label={1:\"No Schooling\",2:\"Primary Education\",3:\"Secondary Education\",4:\"Tertiary Education\",5:\"Other\",99:\"Not stated\" }\n",
    "df['edu_level']=np.select(cond,rslt)\n",
    "df['edu_level'].map(education_label)\n",
    "\n",
    "#edu_attain labels\n",
    "edu_attain_labels={1:\"ISCED Level X: No schooling\", 2:\"ISCED Level 1: Primary education\", 3:\"ISCED Level 2: Lower secondary education\", 4:\"ISCED level 3: Upper secondary education\", 5:\"ISCED Level 4 : Post-secondary education non-tertiary\", 6:\"ISCED Level 6: Bachelor's or equivalent level\", 7:\"ISCED level 7: Master's or equivalent level\", 8:\"ISCED level 8: Doctoral or equivalent level\",9:\"Not classifiable by level and grade of education\", 99:\"Not stated\"}\n",
    "\n",
    "df['edu_attain']=df['edu_attain'].map(edu_attain_labels)\n",
    "print('edu_level created')\n",
    "#####################################################\n",
    "#recode literacy\n",
    "\n",
    "\n",
    "\n",
    "\n",
    "\n",
    "\n",
    "#####################################################\n",
    "#add labels\n",
    "vars=['dem_sex','area','dif_sight','dif_hear','dif_mobi','dif_conc','dif_care','dif_comm','dif_upper_body','dif_sight_reason','dif_hear_reason','dif_mobi_reason','dif_comm_reason','dif_conc_reason','dif_care_reason','dif_upper_body_reason','dem_mrt','ilo_edu_isced11_Yves']\n",
    "\n",
    "for v in vars:\n",
    "    df[v]=df[v].map(col_vals_lfs[v])"
   ]
  },
  {
   "cell_type": "code",
   "execution_count": null,
   "metadata": {},
   "outputs": [],
   "source": []
  },
  {
   "cell_type": "code",
   "execution_count": 45,
   "metadata": {},
   "outputs": [
    {
     "name": "stdout",
     "output_type": "stream",
     "text": [
      "agegroup7 created\n"
     ]
    }
   ],
   "source": []
  },
  {
   "cell_type": "code",
   "execution_count": null,
   "metadata": {},
   "outputs": [],
   "source": []
  },
  {
   "cell_type": "markdown",
   "metadata": {},
   "source": [
    "## CROSSTABS"
   ]
  },
  {
   "cell_type": "code",
   "execution_count": null,
   "metadata": {},
   "outputs": [],
   "source": [
    "#to supress scientific notation\n",
    "pd.options.display.float_format = '{:.2f}'.format"
   ]
  },
  {
   "cell_type": "code",
   "execution_count": null,
   "metadata": {},
   "outputs": [],
   "source": [
    "#Table 1 xtab_all_dis_ByAge###########################\n",
    "newcol=['0-4','5-9', '10-14', '15-19', '20-24', '25-29', '30-34', '35-39',\n",
    "       '40-44', '45-49','50-54', '55-59', '60-64', '65-69', '70-74',\n",
    "       '75-79', '80-84', '85-89', '90+', '18+', '<18']\n",
    "\n",
    "xtab_total=[]\n",
    "for col in ['agegroup1', 'agegroup2']:\n",
    "\n",
    "       xtab=pd.crosstab([df['area'],df['having_disability'],df['dem_sex']],df[col],\n",
    "       rownames=['Area','Disability Type', 'Sex'],\n",
    "       colnames=['agegroup'], \n",
    "       values=df['weight'], aggfunc='sum',dropna=False)\n",
    "       #drop the column 'na' from the dataframe\n",
    "       xtab.drop(['nan'], axis=1, inplace=True)\n",
    "       xtab_total.append(xtab)\n",
    "\n",
    "#append the dataframes\n",
    "T=pd.concat(xtab_total, axis=1) \n",
    "\n",
    "#reindex the columns to rearrange them\n",
    "T=T.reindex(newcol, axis='columns')\n",
    "  \n",
    "T.to_excel('Table 1 xtab_all_dis_ByAge.xlsx')\n",
    "print('Table 1: population_age generated and saved')"
   ]
  },
  {
   "cell_type": "code",
   "execution_count": null,
   "metadata": {},
   "outputs": [],
   "source": [
    "#Table 2 DisabType_Age###########################\n",
    "dis_cols=['dif_sight','dif_hear','dif_mobi','dif_comm','dif_conc','dif_care','dif_upper_body']\n",
    "newcol=['5-14','15-24','25-34','35-44','45-54','55-64','65-74','75-84','85+']\n",
    "\n",
    "xtab_total=[]\n",
    "for dis in dis_cols:\n",
    "    #filter dataframe\n",
    "    df1=df[df[dis].isin(['Yes, a lot of difficulty','Cannot do it at all'])].copy()\n",
    "    xtab=pd.crosstab([df1['area'],df1[dis],df1['dem_sex']],df1['agegroup3'],\n",
    "    rownames=['Area','Disability Type', 'Sex'],\n",
    "    colnames=['agegroup'], \n",
    "    values=df['weight'], aggfunc='sum',dropna=False)\n",
    "\n",
    "    xtab=xtab.reindex(newcol, axis='columns')\n",
    "    #add the name of the disability as an index\n",
    "    # T['disability'] = dis\n",
    "    # T.set_index('disability', append=True, inplace=True)\n",
    "\n",
    "    #add the diability name as a new level on the columns\n",
    "    #replicate the disability name as much as the column length\n",
    "    #zip to create tuples and then use them as the new columns\n",
    "    head1=[dis]*len(xtab.columns)\n",
    "    xtab.columns=tuple(zip(head1,xtab.columns))\n",
    "    xtab_total.append(xtab)\n",
    "            \n",
    "T=pd.concat(xtab_total, axis=1)\n",
    "\n",
    "T.to_excel('Table 2 DisabType_Age.xlsx')\n",
    "print('Table 2: DisabType_Age generated and saved')"
   ]
  },
  {
   "cell_type": "code",
   "execution_count": null,
   "metadata": {},
   "outputs": [],
   "source": [
    "#Table 3 CauseType###########################\n",
    "dis_reasons=['dif_sight_reason','dif_hear_reason','dif_mobi_reason','dif_comm_reason','dif_conc_reason','dif_care_reason','dif_upper_body_reason']\n",
    "\n",
    "xtab_total=[]\n",
    "for r in dis_reasons:\n",
    "    #map labels\n",
    "    xtab=pd.crosstab([df['area'],df['dem_sex']],df[r],\n",
    "    rownames=['Area','Sex'],\n",
    "    colnames=[r],\n",
    "    values=df['weight'], aggfunc='sum',dropna=False)\n",
    "    #add column name as multiindex column\n",
    "    head1=[r]*len(xtab.columns)\n",
    "    xtab.columns=tuple(zip(head1,xtab.columns))\n",
    "    xtab_total.append(xtab)\n",
    "            \n",
    "T=pd.concat(xtab_total, axis=1)\n",
    "T.to_excel('Table 3 CauseType.xlsx')\n",
    "print('Table 3: CauseType generated and saved')"
   ]
  },
  {
   "cell_type": "code",
   "execution_count": null,
   "metadata": {},
   "outputs": [],
   "source": [
    "#Table 4 Number_DisabilityDomain###########################\n",
    "xtab=pd.crosstab([df['area'],df['having_disability'],df['dem_sex']],df['num_functional_dis'],\n",
    "rownames=['Area','Disability Type', 'Sex'],\n",
    "colnames=['num_functional_dis'], \n",
    "values=df['weight'], aggfunc='sum',dropna=False)\n",
    "\n",
    "xtab.to_excel('Table 4 Number_DisabilityDomain.xlsx')\n",
    "print('Table 4: Number_DisabilityDomain generated and saved')\n"
   ]
  },
  {
   "cell_type": "code",
   "execution_count": null,
   "metadata": {},
   "outputs": [],
   "source": [
    "#Table 5 MaritalStatus###########################\n",
    "xtab=pd.crosstab([df['area'],df['dem_mrt'],df['having_disability'],df['dem_sex']],df['agegroup4'],\n",
    "rownames=['Area','marital status','Disability type','Sex'],\n",
    "colnames=['Agegroup'],\n",
    "values=df['weight'], aggfunc='sum',dropna=False)\n",
    "\n",
    "xtab.to_excel('Table 5 MaritalStatus.xlsx')\n",
    "print('Table 5: MaritalStatus generated and saved')\n"
   ]
  },
  {
   "cell_type": "code",
   "execution_count": null,
   "metadata": {},
   "outputs": [],
   "source": [
    "#Table 6 Head_HH###########################\n",
    "xtab=pd.crosstab([df['area'],df['having_disability'],df['dem_sex']],df['hh_relationship'],\n",
    "rownames=['Area','Disability type','Sex'],\n",
    "colnames=['relationship to HH'],\n",
    "values=df['weight'], aggfunc='sum',dropna=False)\n",
    "\n",
    "xtab.to_excel('Table 6 Head_HH.xlsx')\n",
    "\n",
    "print('Table 6: Head_HH generated and saved')"
   ]
  },
  {
   "cell_type": "code",
   "execution_count": 33,
   "metadata": {},
   "outputs": [
    {
     "name": "stdout",
     "output_type": "stream",
     "text": [
      "Table 7: HH_Type&Size generated and saved\n"
     ]
    }
   ],
   "source": [
    "#Table 7 HH_Type&Size###########################\n",
    "#for age >=18\n",
    "df1=df[df['dem_ag1']>=18].copy()\n",
    "\n",
    "df_total=[]\n",
    "for col in ['having_disability','hh_size']:\n",
    "\n",
    "    xtab=pd.crosstab([df1['area'],df1['hh_type']],df1[col],\n",
    "    rownames=['Area','HH type'],\n",
    "    colnames=[col],\n",
    "    values=df1['weight'], aggfunc='sum',dropna=False)\n",
    "\n",
    "    df_total.append(xtab)\n",
    "\n",
    "T=pd.concat(df_total, axis=1)\n",
    "T.to_excel('Table 7 HH_Type&Size.xlsx')\n",
    "print('Table 7: HH_Type&Size generated and saved')"
   ]
  },
  {
   "cell_type": "code",
   "execution_count": 24,
   "metadata": {},
   "outputs": [
    {
     "name": "stdout",
     "output_type": "stream",
     "text": [
      "Table 8: Living_Type_Age generated and saved\n"
     ]
    }
   ],
   "source": [
    "#Table 8: Living_Type_Age###########################\n",
    "dis_cols=['dif_sight','dif_hear','dif_mobi','dif_comm','dif_conc','dif_care','dif_upper_body']\n",
    "newcol=['<18','18-24','25-64','65+']\n",
    "\n",
    "xtab_total=[]\n",
    "for dis in dis_cols:\n",
    "    #filter dataframe\n",
    "    df1=df[df[dis].isin(['Yes, a lot of difficulty','Cannot do it at all'])].copy()\n",
    "    xtab=pd.crosstab([df1['area'],df1['hh_type2'],df1[dis],df1['dem_sex']],df1['agegroup5'],\n",
    "    rownames=['Area','hh type','Disability Type', 'Sex'],\n",
    "    colnames=['agegroup'], \n",
    "    values=df['weight'], aggfunc='sum',dropna=False)\n",
    "\n",
    "    xtab=xtab.reindex(newcol, axis='columns')\n",
    "    #add the name of the disability as an index\n",
    "    # T['disability'] = dis\n",
    "    # T.set_index('disability', append=True, inplace=True)\n",
    "\n",
    "    #add the diability name as a new level on the columns\n",
    "    #replicate the disability name as much as the column length\n",
    "    #zip to create tuples and then use them as the new columns\n",
    "    head1=[dis]*len(xtab.columns)\n",
    "    xtab.columns=tuple(zip(head1,xtab.columns))\n",
    "    xtab_total.append(xtab)\n",
    "            \n",
    "T=pd.concat(xtab_total, axis=1)\n",
    "\n",
    "T.to_excel('Table 8 Living_Type_Age.xlsx')\n",
    "print('Table 8: Living_Type_Age generated and saved')"
   ]
  },
  {
   "cell_type": "code",
   "execution_count": 22,
   "metadata": {},
   "outputs": [],
   "source": []
  },
  {
   "cell_type": "code",
   "execution_count": 6,
   "metadata": {},
   "outputs": [
    {
     "name": "stdout",
     "output_type": "stream",
     "text": [
      "Table 9: Living_Type_Age(new) generated and saved\n"
     ]
    }
   ],
   "source": [
    "#Table 9: Living_Type_Age (new)###########################\n",
    "dis_cols=['dif_sight','dif_hear','dif_mobi','dif_comm','dif_conc','dif_care','dif_upper_body']\n",
    "newcol=['15-24','25-34','35-44','45-54','55-64','65-74','75-84','85+']\n",
    "\n",
    "#filter dataframe on age\n",
    "df1=df[df['dem_ag1']>=15].copy()\n",
    "xtab_total=[]\n",
    "for dis in dis_cols:\n",
    "    #filter dataframe\n",
    "    df2=df1[df1[dis].isin(['Yes, a lot of difficulty','Cannot do it at all'])].copy()\n",
    "    xtab=pd.crosstab([df1['area'],df1['hh_type2'],df1[dis],df1['dem_sex']],df1['agegroup3'],\n",
    "    rownames=['Area','hh type','Disability Type', 'Sex'],\n",
    "    colnames=['agegroup'], \n",
    "    values=df['weight'], aggfunc='sum',dropna=False)\n",
    "\n",
    "    xtab=xtab.reindex(newcol, axis='columns')\n",
    "    #add the name of the disability as an index\n",
    "    # T['disability'] = dis\n",
    "    # T.set_index('disability', append=True, inplace=True)\n",
    "\n",
    "    #add the diability name as a new level on the columns\n",
    "    #replicate the disability name as much as the column length\n",
    "    #zip to create tuples and then use them as the new columns\n",
    "    head1=[dis]*len(xtab.columns)\n",
    "    xtab.columns=tuple(zip(head1,xtab.columns))\n",
    "    xtab_total.append(xtab)\n",
    "            \n",
    "T=pd.concat(xtab_total, axis=1)\n",
    "\n",
    "T.to_excel('Table 9 Living_Type_Age(new).xlsx')\n",
    "print('Table 9: Living_Type_Age(new) generated and saved')"
   ]
  },
  {
   "cell_type": "code",
   "execution_count": 39,
   "metadata": {},
   "outputs": [
    {
     "name": "stdout",
     "output_type": "stream",
     "text": [
      "Table 10: EducatAttaintment_Age generated and saved\n"
     ]
    }
   ],
   "source": [
    "#Table 10 EducatAttaintment_Age###########################\n",
    "cols=[('age5+',\"df['dem_ag1']>=5\"),('age15+',\"df['dem_ag1']>=15\"),('age25+',\"df['dem_ag1']>=25\"),('agegroup6',\"df['dem_ag1']>=15\")]\n",
    "df_total=[]\n",
    "\n",
    "for c in cols:\n",
    "    #filter the dataframe\n",
    "    df1=df[eval(c[1])].copy()\n",
    "    xtab=pd.crosstab([df1['area'],df1['having_disability'],df1['dem_sex']],[df1['edu_attain'],df1[c[0]]],\n",
    "    rownames=['Area','Disability','Sex'],\n",
    "    colnames=['edu','age'],\n",
    "    values=df['weight'], aggfunc='sum',dropna=False)\n",
    "    df_total.append(xtab)\n",
    "\n",
    "T=pd.concat(df_total, axis=1)\n",
    "T.to_excel('Table 10 EducatAttaintment_Age.xlsx')\n",
    "print('Table 10: EducatAttaintment_Age generated and saved')"
   ]
  },
  {
   "cell_type": "code",
   "execution_count": 24,
   "metadata": {},
   "outputs": [
    {
     "name": "stdout",
     "output_type": "stream",
     "text": [
      "Table 11: EducatAttainment_Type generated and saved\n"
     ]
    }
   ],
   "source": [
    "#Table 11: EducatAttainment_Type###########################\n",
    "dis_cols=['dif_sight','dif_hear','dif_mobi','dif_comm','dif_conc','dif_care','dif_upper_body']\n",
    "cols=[('age5+',\"df['dem_ag1']>=5\"),('age15+',\"df['dem_ag1']>=15\"),('age25+',\"df['dem_ag1']>=25\"),('agegroup6',\"df['dem_ag1']>=15\")]\n",
    "\n",
    "df_list_ages=[]\n",
    "df_Total=[]\n",
    "for dis in dis_cols:\n",
    "    for c in cols:\n",
    "        #filter the dataframe\n",
    "        df1=df[eval(c[1])].copy()\n",
    "        xtab=pd.crosstab([df1['area'],df1[dis],df1['dem_sex']],[df1['edu_attain'],df1[c[0]]],\n",
    "        rownames=['Area','Disability','Sex'],\n",
    "        colnames=['edu','age'],\n",
    "        values=df['weight'], aggfunc='sum',dropna=False)\n",
    "        #add the dis as a row index\n",
    "        xtab=pd.concat([xtab], keys=[dis], axis=0)\n",
    "        df_list_ages.append(xtab)\n",
    "\n",
    "    #concat the generated tables for all ages\n",
    "    T=pd.concat(df_list_ages, axis=0)\n",
    "    #append to df_Total\n",
    "    df_Total.append(T)\n",
    "\n",
    "#concat df_Total on axis=0\n",
    "T_final=pd.concat(df_Total, axis=0)\n",
    "T_final.to_excel('Table 11 EducatAttainment_Type.xlsx')\n",
    "print('Table 11: EducatAttainment_Type generated and saved')"
   ]
  },
  {
   "cell_type": "code",
   "execution_count": 49,
   "metadata": {},
   "outputs": [
    {
     "name": "stdout",
     "output_type": "stream",
     "text": [
      "Table 12: School_attendance generated and saved\n"
     ]
    }
   ],
   "source": [
    "#Table 12: School_attendance###########################\n",
    "#filter the dataframe\n",
    "df1=df[df['dem_ag1']>=5].copy()\n",
    "\n",
    "newcol=['5-9', '10-14', '15-19', '20-24', '25-29', '30+']\n",
    "xtab=pd.crosstab([df1['area'],df1['edu_attend'],df1['having_disability'],df1['dem_sex']],[df1['agegroup7']],\n",
    "rownames=['Area','edu_attendance','disability', 'sex'],\n",
    "colnames=['age'],\n",
    "values=df['weight'], aggfunc='sum',dropna=False)\n",
    "\n",
    "xtab=xtab.reindex(newcol, axis='columns')\n",
    "xtab.to_excel('Table 12 School_attendance.xlsx')\n",
    "\n",
    "print('Table 12: School_attendance generated and saved')"
   ]
  },
  {
   "cell_type": "code",
   "execution_count": null,
   "metadata": {},
   "outputs": [],
   "source": [
    "#Table 13: SchoolAttendance_Type###########################\n",
    "\n",
    "\n",
    "print('Table 13: SchoolAttendance_Type generated and saved')"
   ]
  },
  {
   "cell_type": "code",
   "execution_count": null,
   "metadata": {},
   "outputs": [],
   "source": [
    "# #Table 14: Literacy###########################\n",
    "# #filter the dataframe\n",
    "# df1=df[df['dem_ag1']>=15].copy()\n",
    "\n",
    "# newcol=['15-24', '25-64', '65+']\n",
    "# xtab=pd.crosstab([df1['area'],df1['having_disability'],df1['dem_sex']],[df1['literacy'],df1['agegroup8']],\n",
    "# rownames=['Area','disability', 'sex'],\n",
    "# colnames=['literacy','age'],\n",
    "# values=df['weight'], aggfunc='sum',dropna=False)\n",
    "\n",
    "# xtab=xtab.reindex(newcol, axis='columns')\n",
    "# xtab.to_excel('Table 14 14 Literacy.xlsx')\n",
    "\n",
    "# print('Table 14: Literacy generated and saved')"
   ]
  },
  {
   "cell_type": "code",
   "execution_count": null,
   "metadata": {},
   "outputs": [],
   "source": [
    "#Table 15: Literacy_Type_Age###########################\n",
    "\n",
    "\n",
    "print('Table 15: Literacy_Type_Age generated and saved')"
   ]
  },
  {
   "cell_type": "code",
   "execution_count": null,
   "metadata": {},
   "outputs": [],
   "source": [
    "#Table 16: ActivityStatus###########################\n",
    "\n",
    "\n",
    "print('Table 16: ActivityStatus generated and saved')"
   ]
  },
  {
   "cell_type": "code",
   "execution_count": null,
   "metadata": {},
   "outputs": [],
   "source": [
    "#Table 17: ActivityStatus_Education###########################\n",
    "\n",
    "\n",
    "print('Table 17: ActivityStatus_Education generated and saved')"
   ]
  },
  {
   "cell_type": "code",
   "execution_count": null,
   "metadata": {},
   "outputs": [],
   "source": [
    "#Table 18: ActivityStatus_Type###########################\n",
    "\n",
    "\n",
    "print('Table 18: ActivityStatus_Type generated and saved')"
   ]
  },
  {
   "cell_type": "code",
   "execution_count": null,
   "metadata": {},
   "outputs": [],
   "source": [
    "#Table 19: LaborForce###########################\n",
    "\n",
    "\n",
    "print('Table 19: LaborForce generated and saved')"
   ]
  },
  {
   "cell_type": "code",
   "execution_count": null,
   "metadata": {},
   "outputs": [],
   "source": [
    "#Table 20: LaborForce_Type###########################\n",
    "\n",
    "\n",
    "print('Table 20: LaborForce_Type generated and saved')"
   ]
  },
  {
   "cell_type": "code",
   "execution_count": null,
   "metadata": {},
   "outputs": [],
   "source": [
    "#Table 21: Reason_Not_Seeking_Job###########################\n",
    "\n",
    "\n",
    "print('Table 21: Reason_Not_Seeking_Job generated and saved')"
   ]
  },
  {
   "cell_type": "code",
   "execution_count": null,
   "metadata": {},
   "outputs": [],
   "source": [
    "#Table 22: Youth_NEET generated###########################\n",
    "\n",
    "\n",
    "print('Table 22: Youth_NEET generated and saved')"
   ]
  },
  {
   "cell_type": "code",
   "execution_count": null,
   "metadata": {},
   "outputs": [],
   "source": [
    "#Table 23: Youth_NEET_Type###########################\n",
    "\n",
    "\n",
    "print('Table 23: Youth_NEET_Type generated and saved')"
   ]
  },
  {
   "cell_type": "code",
   "execution_count": null,
   "metadata": {},
   "outputs": [],
   "source": [
    "#Table 24: EducatAttaintment_Age###########################\n",
    "\n",
    "\n",
    "print('Table 24: EducatAttaintment_Age generated and saved')"
   ]
  },
  {
   "cell_type": "code",
   "execution_count": null,
   "metadata": {},
   "outputs": [],
   "source": [
    "#Table 25: Occupation###########################\n",
    "\n",
    "\n",
    "print('Table 25: Occupation generated and saved')"
   ]
  },
  {
   "cell_type": "code",
   "execution_count": null,
   "metadata": {},
   "outputs": [],
   "source": [
    "#Table 26: Sector###########################\n",
    "\n",
    "\n",
    "print('Table 26: Sector generated and saved')"
   ]
  },
  {
   "cell_type": "code",
   "execution_count": null,
   "metadata": {},
   "outputs": [],
   "source": [
    "#Table 27: Sector_type###########################\n",
    "\n",
    "\n",
    "print('Table 27: Sector_type generated and saved')"
   ]
  },
  {
   "cell_type": "code",
   "execution_count": null,
   "metadata": {},
   "outputs": [],
   "source": [
    "#Table 28: Type_of_ownership###########################\n",
    "\n",
    "\n",
    "print('Table 28: Type_of_ownership generated and saved')"
   ]
  },
  {
   "cell_type": "code",
   "execution_count": null,
   "metadata": {},
   "outputs": [],
   "source": [
    "#Table 29: Grants_Benefits_Insurance###########################\n",
    "\n",
    "\n",
    "print('Table 29: Grants_Benefits_Insurance generated and saved')"
   ]
  },
  {
   "cell_type": "code",
   "execution_count": null,
   "metadata": {},
   "outputs": [],
   "source": []
  },
  {
   "cell_type": "code",
   "execution_count": null,
   "metadata": {},
   "outputs": [],
   "source": [
    "\n"
   ]
  },
  {
   "cell_type": "code",
   "execution_count": null,
   "metadata": {},
   "outputs": [],
   "source": []
  },
  {
   "cell_type": "code",
   "execution_count": null,
   "metadata": {},
   "outputs": [],
   "source": []
  },
  {
   "cell_type": "code",
   "execution_count": null,
   "metadata": {},
   "outputs": [],
   "source": []
  },
  {
   "cell_type": "code",
   "execution_count": null,
   "metadata": {},
   "outputs": [],
   "source": []
  },
  {
   "cell_type": "code",
   "execution_count": null,
   "metadata": {},
   "outputs": [],
   "source": []
  },
  {
   "cell_type": "code",
   "execution_count": null,
   "metadata": {},
   "outputs": [],
   "source": []
  },
  {
   "cell_type": "code",
   "execution_count": null,
   "metadata": {},
   "outputs": [],
   "source": []
  },
  {
   "cell_type": "code",
   "execution_count": null,
   "metadata": {},
   "outputs": [],
   "source": []
  },
  {
   "cell_type": "code",
   "execution_count": null,
   "metadata": {},
   "outputs": [],
   "source": []
  },
  {
   "cell_type": "code",
   "execution_count": null,
   "metadata": {},
   "outputs": [],
   "source": []
  },
  {
   "cell_type": "code",
   "execution_count": null,
   "metadata": {},
   "outputs": [],
   "source": []
  },
  {
   "cell_type": "code",
   "execution_count": null,
   "metadata": {},
   "outputs": [],
   "source": []
  },
  {
   "cell_type": "code",
   "execution_count": null,
   "metadata": {},
   "outputs": [],
   "source": []
  },
  {
   "cell_type": "code",
   "execution_count": null,
   "metadata": {},
   "outputs": [],
   "source": []
  }
 ],
 "metadata": {
  "kernelspec": {
   "display_name": "Python 3.9.5 64-bit",
   "language": "python",
   "name": "python3"
  },
  "language_info": {
   "codemirror_mode": {
    "name": "ipython",
    "version": 3
   },
   "file_extension": ".py",
   "mimetype": "text/x-python",
   "name": "python",
   "nbconvert_exporter": "python",
   "pygments_lexer": "ipython3",
   "version": "3.9.5"
  },
  "orig_nbformat": 4,
  "vscode": {
   "interpreter": {
    "hash": "169bc59016e8e336f4ad0e5a16a36fd3275208f1ca947fbed5bd75de5be3f1c8"
   }
  }
 },
 "nbformat": 4,
 "nbformat_minor": 2
}
